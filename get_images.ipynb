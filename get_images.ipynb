{
 "cells": [
  {
   "cell_type": "code",
   "execution_count": 22,
   "metadata": {},
   "outputs": [],
   "source": [
    "import os\n",
    "from typing import List\n",
    "from pypdf import PdfReader\n",
    "from PIL import Image as PILImage\n",
    "from PIL.ImageFile import ImageFile\n",
    "import io\n",
    "\n",
    "def extract_images(file_path: str, output_folder: str = 'images') -> None:\n",
    "    reader: PdfReader = PdfReader(file_path)\n",
    "\n",
    "    img_list: List[ImageFile] = []\n",
    "    for page in reader.pages:\n",
    "        for image in page.images:\n",
    "            img: ImageFile = PILImage.open(io.BytesIO(image.data))\n",
    "            # display(Image(data=image.data))\n",
    "            img_list.append(PILImage.open(io.BytesIO(image.data)))\n",
    "\n",
    "    if not os.path.exists(output_folder):\n",
    "        os.makedirs(output_folder)   \n",
    "\n",
    "    for i, img in enumerate(img_list):\n",
    "        if img.format == 'JPEG':\n",
    "            img.save(f'{output_folder}/img_{i}.jpg')\n",
    "            print(f'Image {i} saved as JPEG')\n",
    "        elif img.format == 'PNG':\n",
    "            img.save(f'{output_folder}/img_{i}.png')\n",
    "            print(f'Image {i} saved as PNG')\n",
    "        else:\n",
    "            img.save(f'{output_folder}/img_{i}.{img.format.lower()}')\n",
    "            print(f'Image {i} saved as {img.format}')\n"
   ]
  },
  {
   "cell_type": "code",
   "execution_count": 23,
   "metadata": {},
   "outputs": [
    {
     "name": "stdout",
     "output_type": "stream",
     "text": [
      "Image 0 saved as JPEG\n",
      "Image 1 saved as PNG\n",
      "Image 2 saved as JPEG\n",
      "Image 3 saved as PNG\n",
      "Image 4 saved as PNG\n",
      "Image 5 saved as PNG\n",
      "Image 6 saved as PNG\n",
      "Image 7 saved as PNG\n",
      "Image 8 saved as PNG\n",
      "Image 9 saved as PNG\n",
      "Image 10 saved as PNG\n",
      "Image 11 saved as PNG\n"
     ]
    }
   ],
   "source": [
    "file_path = 'Report.pdf'\n",
    "output_folder = 'images'\n",
    "extract_images(file_path)"
   ]
  }
 ],
 "metadata": {
  "kernelspec": {
   "display_name": "Python 3",
   "language": "python",
   "name": "python3"
  },
  "language_info": {
   "codemirror_mode": {
    "name": "ipython",
    "version": 3
   },
   "file_extension": ".py",
   "mimetype": "text/x-python",
   "name": "python",
   "nbconvert_exporter": "python",
   "pygments_lexer": "ipython3",
   "version": "3.11.9"
  }
 },
 "nbformat": 4,
 "nbformat_minor": 2
}
